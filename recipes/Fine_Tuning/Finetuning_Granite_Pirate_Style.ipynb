{
  "nbformat": 4,
  "nbformat_minor": 0,
  "metadata": {
    "colab": {
      "provenance": [],
      "gpuType": "T4",
      "toc_visible": true
    },
    "kernelspec": {
      "name": "python3",
      "display_name": "Python 3"
    },
    "language_info": {
      "name": "python"
    },
    "accelerator": "GPU",
    "widgets": {
      "application/vnd.jupyter.widget-state+json": {
        "29e19b80ed4c4545b5c85999e04fb1a2": {
          "model_module": "@jupyter-widgets/controls",
          "model_name": "HBoxModel",
          "model_module_version": "1.5.0",
          "state": {
            "_dom_classes": [],
            "_model_module": "@jupyter-widgets/controls",
            "_model_module_version": "1.5.0",
            "_model_name": "HBoxModel",
            "_view_count": null,
            "_view_module": "@jupyter-widgets/controls",
            "_view_module_version": "1.5.0",
            "_view_name": "HBoxView",
            "box_style": "",
            "children": [
              "IPY_MODEL_5fa1acf1da9648c0bd97aac2c224e1b3",
              "IPY_MODEL_29152db165814f8e8407e1b090f51053",
              "IPY_MODEL_8c8b476314c1411f8647727350645eb2"
            ],
            "layout": "IPY_MODEL_a2de7fa9df82434aa83d8af4412f8e8d"
          }
        },
        "5fa1acf1da9648c0bd97aac2c224e1b3": {
          "model_module": "@jupyter-widgets/controls",
          "model_name": "HTMLModel",
          "model_module_version": "1.5.0",
          "state": {
            "_dom_classes": [],
            "_model_module": "@jupyter-widgets/controls",
            "_model_module_version": "1.5.0",
            "_model_name": "HTMLModel",
            "_view_count": null,
            "_view_module": "@jupyter-widgets/controls",
            "_view_module_version": "1.5.0",
            "_view_name": "HTMLView",
            "description": "",
            "description_tooltip": null,
            "layout": "IPY_MODEL_c2bf409363314e81b43ec64bd43906c8",
            "placeholder": "​",
            "style": "IPY_MODEL_41569a7e07da40f8bc5a0b14773e3a03",
            "value": "Loading checkpoint shards: 100%"
          }
        },
        "29152db165814f8e8407e1b090f51053": {
          "model_module": "@jupyter-widgets/controls",
          "model_name": "FloatProgressModel",
          "model_module_version": "1.5.0",
          "state": {
            "_dom_classes": [],
            "_model_module": "@jupyter-widgets/controls",
            "_model_module_version": "1.5.0",
            "_model_name": "FloatProgressModel",
            "_view_count": null,
            "_view_module": "@jupyter-widgets/controls",
            "_view_module_version": "1.5.0",
            "_view_name": "ProgressView",
            "bar_style": "success",
            "description": "",
            "description_tooltip": null,
            "layout": "IPY_MODEL_ef687d2c18674e82baf9e7c13503f39f",
            "max": 2,
            "min": 0,
            "orientation": "horizontal",
            "style": "IPY_MODEL_c5920c6af1334a36a89de9104dd1ca8a",
            "value": 2
          }
        },
        "8c8b476314c1411f8647727350645eb2": {
          "model_module": "@jupyter-widgets/controls",
          "model_name": "HTMLModel",
          "model_module_version": "1.5.0",
          "state": {
            "_dom_classes": [],
            "_model_module": "@jupyter-widgets/controls",
            "_model_module_version": "1.5.0",
            "_model_name": "HTMLModel",
            "_view_count": null,
            "_view_module": "@jupyter-widgets/controls",
            "_view_module_version": "1.5.0",
            "_view_name": "HTMLView",
            "description": "",
            "description_tooltip": null,
            "layout": "IPY_MODEL_5655016717b64cf5b150e95b4ca7f87f",
            "placeholder": "​",
            "style": "IPY_MODEL_e3235646bec742cba3e44f576f2f1b59",
            "value": " 2/2 [00:49&lt;00:00, 22.95s/it]"
          }
        },
        "a2de7fa9df82434aa83d8af4412f8e8d": {
          "model_module": "@jupyter-widgets/base",
          "model_name": "LayoutModel",
          "model_module_version": "1.2.0",
          "state": {
            "_model_module": "@jupyter-widgets/base",
            "_model_module_version": "1.2.0",
            "_model_name": "LayoutModel",
            "_view_count": null,
            "_view_module": "@jupyter-widgets/base",
            "_view_module_version": "1.2.0",
            "_view_name": "LayoutView",
            "align_content": null,
            "align_items": null,
            "align_self": null,
            "border": null,
            "bottom": null,
            "display": null,
            "flex": null,
            "flex_flow": null,
            "grid_area": null,
            "grid_auto_columns": null,
            "grid_auto_flow": null,
            "grid_auto_rows": null,
            "grid_column": null,
            "grid_gap": null,
            "grid_row": null,
            "grid_template_areas": null,
            "grid_template_columns": null,
            "grid_template_rows": null,
            "height": null,
            "justify_content": null,
            "justify_items": null,
            "left": null,
            "margin": null,
            "max_height": null,
            "max_width": null,
            "min_height": null,
            "min_width": null,
            "object_fit": null,
            "object_position": null,
            "order": null,
            "overflow": null,
            "overflow_x": null,
            "overflow_y": null,
            "padding": null,
            "right": null,
            "top": null,
            "visibility": null,
            "width": null
          }
        },
        "c2bf409363314e81b43ec64bd43906c8": {
          "model_module": "@jupyter-widgets/base",
          "model_name": "LayoutModel",
          "model_module_version": "1.2.0",
          "state": {
            "_model_module": "@jupyter-widgets/base",
            "_model_module_version": "1.2.0",
            "_model_name": "LayoutModel",
            "_view_count": null,
            "_view_module": "@jupyter-widgets/base",
            "_view_module_version": "1.2.0",
            "_view_name": "LayoutView",
            "align_content": null,
            "align_items": null,
            "align_self": null,
            "border": null,
            "bottom": null,
            "display": null,
            "flex": null,
            "flex_flow": null,
            "grid_area": null,
            "grid_auto_columns": null,
            "grid_auto_flow": null,
            "grid_auto_rows": null,
            "grid_column": null,
            "grid_gap": null,
            "grid_row": null,
            "grid_template_areas": null,
            "grid_template_columns": null,
            "grid_template_rows": null,
            "height": null,
            "justify_content": null,
            "justify_items": null,
            "left": null,
            "margin": null,
            "max_height": null,
            "max_width": null,
            "min_height": null,
            "min_width": null,
            "object_fit": null,
            "object_position": null,
            "order": null,
            "overflow": null,
            "overflow_x": null,
            "overflow_y": null,
            "padding": null,
            "right": null,
            "top": null,
            "visibility": null,
            "width": null
          }
        },
        "41569a7e07da40f8bc5a0b14773e3a03": {
          "model_module": "@jupyter-widgets/controls",
          "model_name": "DescriptionStyleModel",
          "model_module_version": "1.5.0",
          "state": {
            "_model_module": "@jupyter-widgets/controls",
            "_model_module_version": "1.5.0",
            "_model_name": "DescriptionStyleModel",
            "_view_count": null,
            "_view_module": "@jupyter-widgets/base",
            "_view_module_version": "1.2.0",
            "_view_name": "StyleView",
            "description_width": ""
          }
        },
        "ef687d2c18674e82baf9e7c13503f39f": {
          "model_module": "@jupyter-widgets/base",
          "model_name": "LayoutModel",
          "model_module_version": "1.2.0",
          "state": {
            "_model_module": "@jupyter-widgets/base",
            "_model_module_version": "1.2.0",
            "_model_name": "LayoutModel",
            "_view_count": null,
            "_view_module": "@jupyter-widgets/base",
            "_view_module_version": "1.2.0",
            "_view_name": "LayoutView",
            "align_content": null,
            "align_items": null,
            "align_self": null,
            "border": null,
            "bottom": null,
            "display": null,
            "flex": null,
            "flex_flow": null,
            "grid_area": null,
            "grid_auto_columns": null,
            "grid_auto_flow": null,
            "grid_auto_rows": null,
            "grid_column": null,
            "grid_gap": null,
            "grid_row": null,
            "grid_template_areas": null,
            "grid_template_columns": null,
            "grid_template_rows": null,
            "height": null,
            "justify_content": null,
            "justify_items": null,
            "left": null,
            "margin": null,
            "max_height": null,
            "max_width": null,
            "min_height": null,
            "min_width": null,
            "object_fit": null,
            "object_position": null,
            "order": null,
            "overflow": null,
            "overflow_x": null,
            "overflow_y": null,
            "padding": null,
            "right": null,
            "top": null,
            "visibility": null,
            "width": null
          }
        },
        "c5920c6af1334a36a89de9104dd1ca8a": {
          "model_module": "@jupyter-widgets/controls",
          "model_name": "ProgressStyleModel",
          "model_module_version": "1.5.0",
          "state": {
            "_model_module": "@jupyter-widgets/controls",
            "_model_module_version": "1.5.0",
            "_model_name": "ProgressStyleModel",
            "_view_count": null,
            "_view_module": "@jupyter-widgets/base",
            "_view_module_version": "1.2.0",
            "_view_name": "StyleView",
            "bar_color": null,
            "description_width": ""
          }
        },
        "5655016717b64cf5b150e95b4ca7f87f": {
          "model_module": "@jupyter-widgets/base",
          "model_name": "LayoutModel",
          "model_module_version": "1.2.0",
          "state": {
            "_model_module": "@jupyter-widgets/base",
            "_model_module_version": "1.2.0",
            "_model_name": "LayoutModel",
            "_view_count": null,
            "_view_module": "@jupyter-widgets/base",
            "_view_module_version": "1.2.0",
            "_view_name": "LayoutView",
            "align_content": null,
            "align_items": null,
            "align_self": null,
            "border": null,
            "bottom": null,
            "display": null,
            "flex": null,
            "flex_flow": null,
            "grid_area": null,
            "grid_auto_columns": null,
            "grid_auto_flow": null,
            "grid_auto_rows": null,
            "grid_column": null,
            "grid_gap": null,
            "grid_row": null,
            "grid_template_areas": null,
            "grid_template_columns": null,
            "grid_template_rows": null,
            "height": null,
            "justify_content": null,
            "justify_items": null,
            "left": null,
            "margin": null,
            "max_height": null,
            "max_width": null,
            "min_height": null,
            "min_width": null,
            "object_fit": null,
            "object_position": null,
            "order": null,
            "overflow": null,
            "overflow_x": null,
            "overflow_y": null,
            "padding": null,
            "right": null,
            "top": null,
            "visibility": null,
            "width": null
          }
        },
        "e3235646bec742cba3e44f576f2f1b59": {
          "model_module": "@jupyter-widgets/controls",
          "model_name": "DescriptionStyleModel",
          "model_module_version": "1.5.0",
          "state": {
            "_model_module": "@jupyter-widgets/controls",
            "_model_module_version": "1.5.0",
            "_model_name": "DescriptionStyleModel",
            "_view_count": null,
            "_view_module": "@jupyter-widgets/base",
            "_view_module_version": "1.2.0",
            "_view_name": "StyleView",
            "description_width": ""
          }
        },
        "ea8f3359c6cd4266af2fbce2d2d998ea": {
          "model_module": "@jupyter-widgets/controls",
          "model_name": "HBoxModel",
          "model_module_version": "1.5.0",
          "state": {
            "_dom_classes": [],
            "_model_module": "@jupyter-widgets/controls",
            "_model_module_version": "1.5.0",
            "_model_name": "HBoxModel",
            "_view_count": null,
            "_view_module": "@jupyter-widgets/controls",
            "_view_module_version": "1.5.0",
            "_view_name": "HBoxView",
            "box_style": "",
            "children": [
              "IPY_MODEL_65895f30671f4977b89522bc9fdf8705",
              "IPY_MODEL_9e7c28abf41841e4becf4cd058403138",
              "IPY_MODEL_160b939dc0ea4da7bd54d60fef17a4b9"
            ],
            "layout": "IPY_MODEL_ca5efe72982b44df9a23a36dbe800a99"
          }
        },
        "65895f30671f4977b89522bc9fdf8705": {
          "model_module": "@jupyter-widgets/controls",
          "model_name": "HTMLModel",
          "model_module_version": "1.5.0",
          "state": {
            "_dom_classes": [],
            "_model_module": "@jupyter-widgets/controls",
            "_model_module_version": "1.5.0",
            "_model_name": "HTMLModel",
            "_view_count": null,
            "_view_module": "@jupyter-widgets/controls",
            "_view_module_version": "1.5.0",
            "_view_name": "HTMLView",
            "description": "",
            "description_tooltip": null,
            "layout": "IPY_MODEL_2c098b3d64104363a9a08771b05138c3",
            "placeholder": "​",
            "style": "IPY_MODEL_860ecf17dd7042aebc4468d903d9ba74",
            "value": "Filter: 100%"
          }
        },
        "9e7c28abf41841e4becf4cd058403138": {
          "model_module": "@jupyter-widgets/controls",
          "model_name": "FloatProgressModel",
          "model_module_version": "1.5.0",
          "state": {
            "_dom_classes": [],
            "_model_module": "@jupyter-widgets/controls",
            "_model_module_version": "1.5.0",
            "_model_name": "FloatProgressModel",
            "_view_count": null,
            "_view_module": "@jupyter-widgets/controls",
            "_view_module_version": "1.5.0",
            "_view_name": "ProgressView",
            "bar_style": "success",
            "description": "",
            "description_tooltip": null,
            "layout": "IPY_MODEL_a617f7a772304c368726accb90ed0e25",
            "max": 6000,
            "min": 0,
            "orientation": "horizontal",
            "style": "IPY_MODEL_59eb5504afac4b2fba4af32b6cc9d9ea",
            "value": 6000
          }
        },
        "160b939dc0ea4da7bd54d60fef17a4b9": {
          "model_module": "@jupyter-widgets/controls",
          "model_name": "HTMLModel",
          "model_module_version": "1.5.0",
          "state": {
            "_dom_classes": [],
            "_model_module": "@jupyter-widgets/controls",
            "_model_module_version": "1.5.0",
            "_model_name": "HTMLModel",
            "_view_count": null,
            "_view_module": "@jupyter-widgets/controls",
            "_view_module_version": "1.5.0",
            "_view_name": "HTMLView",
            "description": "",
            "description_tooltip": null,
            "layout": "IPY_MODEL_069d77a88a74430f894a68ef3b25a121",
            "placeholder": "​",
            "style": "IPY_MODEL_0f5ffa949a6c4ebf996e51bb7f7b3f27",
            "value": " 6000/6000 [00:05&lt;00:00, 1244.14 examples/s]"
          }
        },
        "ca5efe72982b44df9a23a36dbe800a99": {
          "model_module": "@jupyter-widgets/base",
          "model_name": "LayoutModel",
          "model_module_version": "1.2.0",
          "state": {
            "_model_module": "@jupyter-widgets/base",
            "_model_module_version": "1.2.0",
            "_model_name": "LayoutModel",
            "_view_count": null,
            "_view_module": "@jupyter-widgets/base",
            "_view_module_version": "1.2.0",
            "_view_name": "LayoutView",
            "align_content": null,
            "align_items": null,
            "align_self": null,
            "border": null,
            "bottom": null,
            "display": null,
            "flex": null,
            "flex_flow": null,
            "grid_area": null,
            "grid_auto_columns": null,
            "grid_auto_flow": null,
            "grid_auto_rows": null,
            "grid_column": null,
            "grid_gap": null,
            "grid_row": null,
            "grid_template_areas": null,
            "grid_template_columns": null,
            "grid_template_rows": null,
            "height": null,
            "justify_content": null,
            "justify_items": null,
            "left": null,
            "margin": null,
            "max_height": null,
            "max_width": null,
            "min_height": null,
            "min_width": null,
            "object_fit": null,
            "object_position": null,
            "order": null,
            "overflow": null,
            "overflow_x": null,
            "overflow_y": null,
            "padding": null,
            "right": null,
            "top": null,
            "visibility": null,
            "width": null
          }
        },
        "2c098b3d64104363a9a08771b05138c3": {
          "model_module": "@jupyter-widgets/base",
          "model_name": "LayoutModel",
          "model_module_version": "1.2.0",
          "state": {
            "_model_module": "@jupyter-widgets/base",
            "_model_module_version": "1.2.0",
            "_model_name": "LayoutModel",
            "_view_count": null,
            "_view_module": "@jupyter-widgets/base",
            "_view_module_version": "1.2.0",
            "_view_name": "LayoutView",
            "align_content": null,
            "align_items": null,
            "align_self": null,
            "border": null,
            "bottom": null,
            "display": null,
            "flex": null,
            "flex_flow": null,
            "grid_area": null,
            "grid_auto_columns": null,
            "grid_auto_flow": null,
            "grid_auto_rows": null,
            "grid_column": null,
            "grid_gap": null,
            "grid_row": null,
            "grid_template_areas": null,
            "grid_template_columns": null,
            "grid_template_rows": null,
            "height": null,
            "justify_content": null,
            "justify_items": null,
            "left": null,
            "margin": null,
            "max_height": null,
            "max_width": null,
            "min_height": null,
            "min_width": null,
            "object_fit": null,
            "object_position": null,
            "order": null,
            "overflow": null,
            "overflow_x": null,
            "overflow_y": null,
            "padding": null,
            "right": null,
            "top": null,
            "visibility": null,
            "width": null
          }
        },
        "860ecf17dd7042aebc4468d903d9ba74": {
          "model_module": "@jupyter-widgets/controls",
          "model_name": "DescriptionStyleModel",
          "model_module_version": "1.5.0",
          "state": {
            "_model_module": "@jupyter-widgets/controls",
            "_model_module_version": "1.5.0",
            "_model_name": "DescriptionStyleModel",
            "_view_count": null,
            "_view_module": "@jupyter-widgets/base",
            "_view_module_version": "1.2.0",
            "_view_name": "StyleView",
            "description_width": ""
          }
        },
        "a617f7a772304c368726accb90ed0e25": {
          "model_module": "@jupyter-widgets/base",
          "model_name": "LayoutModel",
          "model_module_version": "1.2.0",
          "state": {
            "_model_module": "@jupyter-widgets/base",
            "_model_module_version": "1.2.0",
            "_model_name": "LayoutModel",
            "_view_count": null,
            "_view_module": "@jupyter-widgets/base",
            "_view_module_version": "1.2.0",
            "_view_name": "LayoutView",
            "align_content": null,
            "align_items": null,
            "align_self": null,
            "border": null,
            "bottom": null,
            "display": null,
            "flex": null,
            "flex_flow": null,
            "grid_area": null,
            "grid_auto_columns": null,
            "grid_auto_flow": null,
            "grid_auto_rows": null,
            "grid_column": null,
            "grid_gap": null,
            "grid_row": null,
            "grid_template_areas": null,
            "grid_template_columns": null,
            "grid_template_rows": null,
            "height": null,
            "justify_content": null,
            "justify_items": null,
            "left": null,
            "margin": null,
            "max_height": null,
            "max_width": null,
            "min_height": null,
            "min_width": null,
            "object_fit": null,
            "object_position": null,
            "order": null,
            "overflow": null,
            "overflow_x": null,
            "overflow_y": null,
            "padding": null,
            "right": null,
            "top": null,
            "visibility": null,
            "width": null
          }
        },
        "59eb5504afac4b2fba4af32b6cc9d9ea": {
          "model_module": "@jupyter-widgets/controls",
          "model_name": "ProgressStyleModel",
          "model_module_version": "1.5.0",
          "state": {
            "_model_module": "@jupyter-widgets/controls",
            "_model_module_version": "1.5.0",
            "_model_name": "ProgressStyleModel",
            "_view_count": null,
            "_view_module": "@jupyter-widgets/base",
            "_view_module_version": "1.2.0",
            "_view_name": "StyleView",
            "bar_color": null,
            "description_width": ""
          }
        },
        "069d77a88a74430f894a68ef3b25a121": {
          "model_module": "@jupyter-widgets/base",
          "model_name": "LayoutModel",
          "model_module_version": "1.2.0",
          "state": {
            "_model_module": "@jupyter-widgets/base",
            "_model_module_version": "1.2.0",
            "_model_name": "LayoutModel",
            "_view_count": null,
            "_view_module": "@jupyter-widgets/base",
            "_view_module_version": "1.2.0",
            "_view_name": "LayoutView",
            "align_content": null,
            "align_items": null,
            "align_self": null,
            "border": null,
            "bottom": null,
            "display": null,
            "flex": null,
            "flex_flow": null,
            "grid_area": null,
            "grid_auto_columns": null,
            "grid_auto_flow": null,
            "grid_auto_rows": null,
            "grid_column": null,
            "grid_gap": null,
            "grid_row": null,
            "grid_template_areas": null,
            "grid_template_columns": null,
            "grid_template_rows": null,
            "height": null,
            "justify_content": null,
            "justify_items": null,
            "left": null,
            "margin": null,
            "max_height": null,
            "max_width": null,
            "min_height": null,
            "min_width": null,
            "object_fit": null,
            "object_position": null,
            "order": null,
            "overflow": null,
            "overflow_x": null,
            "overflow_y": null,
            "padding": null,
            "right": null,
            "top": null,
            "visibility": null,
            "width": null
          }
        },
        "0f5ffa949a6c4ebf996e51bb7f7b3f27": {
          "model_module": "@jupyter-widgets/controls",
          "model_name": "DescriptionStyleModel",
          "model_module_version": "1.5.0",
          "state": {
            "_model_module": "@jupyter-widgets/controls",
            "_model_module_version": "1.5.0",
            "_model_name": "DescriptionStyleModel",
            "_view_count": null,
            "_view_module": "@jupyter-widgets/base",
            "_view_module_version": "1.2.0",
            "_view_name": "StyleView",
            "description_width": ""
          }
        },
        "c1a24ae3940242fba46dcc6abacf35ef": {
          "model_module": "@jupyter-widgets/controls",
          "model_name": "HBoxModel",
          "model_module_version": "1.5.0",
          "state": {
            "_dom_classes": [],
            "_model_module": "@jupyter-widgets/controls",
            "_model_module_version": "1.5.0",
            "_model_name": "HBoxModel",
            "_view_count": null,
            "_view_module": "@jupyter-widgets/controls",
            "_view_module_version": "1.5.0",
            "_view_name": "HBoxView",
            "box_style": "",
            "children": [
              "IPY_MODEL_0992cc93e96745028e927b6ec3e8e3f8",
              "IPY_MODEL_99a4c6dc324942738b08e530a71488a9",
              "IPY_MODEL_06c6405f216b4cbbbc4a4efd175969ea"
            ],
            "layout": "IPY_MODEL_a9114b8aa7474308b99321db203b09d1"
          }
        },
        "0992cc93e96745028e927b6ec3e8e3f8": {
          "model_module": "@jupyter-widgets/controls",
          "model_name": "HTMLModel",
          "model_module_version": "1.5.0",
          "state": {
            "_dom_classes": [],
            "_model_module": "@jupyter-widgets/controls",
            "_model_module_version": "1.5.0",
            "_model_name": "HTMLModel",
            "_view_count": null,
            "_view_module": "@jupyter-widgets/controls",
            "_view_module_version": "1.5.0",
            "_view_name": "HTMLView",
            "description": "",
            "description_tooltip": null,
            "layout": "IPY_MODEL_20345dfda0994173aca62e735a45b5ed",
            "placeholder": "​",
            "style": "IPY_MODEL_fda70756b99b49bc99e39f16675971cb",
            "value": "Map:   9%"
          }
        },
        "99a4c6dc324942738b08e530a71488a9": {
          "model_module": "@jupyter-widgets/controls",
          "model_name": "FloatProgressModel",
          "model_module_version": "1.5.0",
          "state": {
            "_dom_classes": [],
            "_model_module": "@jupyter-widgets/controls",
            "_model_module_version": "1.5.0",
            "_model_name": "FloatProgressModel",
            "_view_count": null,
            "_view_module": "@jupyter-widgets/controls",
            "_view_module_version": "1.5.0",
            "_view_name": "ProgressView",
            "bar_style": "",
            "description": "",
            "description_tooltip": null,
            "layout": "IPY_MODEL_c1aee8ae082841a18ec0a83b01b85731",
            "max": 1500,
            "min": 0,
            "orientation": "horizontal",
            "style": "IPY_MODEL_0a71f660f1f440f0abf9eb2b2af0a38a",
            "value": 128
          }
        },
        "06c6405f216b4cbbbc4a4efd175969ea": {
          "model_module": "@jupyter-widgets/controls",
          "model_name": "HTMLModel",
          "model_module_version": "1.5.0",
          "state": {
            "_dom_classes": [],
            "_model_module": "@jupyter-widgets/controls",
            "_model_module_version": "1.5.0",
            "_model_name": "HTMLModel",
            "_view_count": null,
            "_view_module": "@jupyter-widgets/controls",
            "_view_module_version": "1.5.0",
            "_view_name": "HTMLView",
            "description": "",
            "description_tooltip": null,
            "layout": "IPY_MODEL_4a23880c7e8c439d918c0ef38e541660",
            "placeholder": "​",
            "style": "IPY_MODEL_b91e2cf9351e4ec79a9ee62529fb60d8",
            "value": " 128/1500 [02:36&lt;27:59,  1.22s/ examples]"
          }
        },
        "a9114b8aa7474308b99321db203b09d1": {
          "model_module": "@jupyter-widgets/base",
          "model_name": "LayoutModel",
          "model_module_version": "1.2.0",
          "state": {
            "_model_module": "@jupyter-widgets/base",
            "_model_module_version": "1.2.0",
            "_model_name": "LayoutModel",
            "_view_count": null,
            "_view_module": "@jupyter-widgets/base",
            "_view_module_version": "1.2.0",
            "_view_name": "LayoutView",
            "align_content": null,
            "align_items": null,
            "align_self": null,
            "border": null,
            "bottom": null,
            "display": null,
            "flex": null,
            "flex_flow": null,
            "grid_area": null,
            "grid_auto_columns": null,
            "grid_auto_flow": null,
            "grid_auto_rows": null,
            "grid_column": null,
            "grid_gap": null,
            "grid_row": null,
            "grid_template_areas": null,
            "grid_template_columns": null,
            "grid_template_rows": null,
            "height": null,
            "justify_content": null,
            "justify_items": null,
            "left": null,
            "margin": null,
            "max_height": null,
            "max_width": null,
            "min_height": null,
            "min_width": null,
            "object_fit": null,
            "object_position": null,
            "order": null,
            "overflow": null,
            "overflow_x": null,
            "overflow_y": null,
            "padding": null,
            "right": null,
            "top": null,
            "visibility": null,
            "width": null
          }
        },
        "20345dfda0994173aca62e735a45b5ed": {
          "model_module": "@jupyter-widgets/base",
          "model_name": "LayoutModel",
          "model_module_version": "1.2.0",
          "state": {
            "_model_module": "@jupyter-widgets/base",
            "_model_module_version": "1.2.0",
            "_model_name": "LayoutModel",
            "_view_count": null,
            "_view_module": "@jupyter-widgets/base",
            "_view_module_version": "1.2.0",
            "_view_name": "LayoutView",
            "align_content": null,
            "align_items": null,
            "align_self": null,
            "border": null,
            "bottom": null,
            "display": null,
            "flex": null,
            "flex_flow": null,
            "grid_area": null,
            "grid_auto_columns": null,
            "grid_auto_flow": null,
            "grid_auto_rows": null,
            "grid_column": null,
            "grid_gap": null,
            "grid_row": null,
            "grid_template_areas": null,
            "grid_template_columns": null,
            "grid_template_rows": null,
            "height": null,
            "justify_content": null,
            "justify_items": null,
            "left": null,
            "margin": null,
            "max_height": null,
            "max_width": null,
            "min_height": null,
            "min_width": null,
            "object_fit": null,
            "object_position": null,
            "order": null,
            "overflow": null,
            "overflow_x": null,
            "overflow_y": null,
            "padding": null,
            "right": null,
            "top": null,
            "visibility": null,
            "width": null
          }
        },
        "fda70756b99b49bc99e39f16675971cb": {
          "model_module": "@jupyter-widgets/controls",
          "model_name": "DescriptionStyleModel",
          "model_module_version": "1.5.0",
          "state": {
            "_model_module": "@jupyter-widgets/controls",
            "_model_module_version": "1.5.0",
            "_model_name": "DescriptionStyleModel",
            "_view_count": null,
            "_view_module": "@jupyter-widgets/base",
            "_view_module_version": "1.2.0",
            "_view_name": "StyleView",
            "description_width": ""
          }
        },
        "c1aee8ae082841a18ec0a83b01b85731": {
          "model_module": "@jupyter-widgets/base",
          "model_name": "LayoutModel",
          "model_module_version": "1.2.0",
          "state": {
            "_model_module": "@jupyter-widgets/base",
            "_model_module_version": "1.2.0",
            "_model_name": "LayoutModel",
            "_view_count": null,
            "_view_module": "@jupyter-widgets/base",
            "_view_module_version": "1.2.0",
            "_view_name": "LayoutView",
            "align_content": null,
            "align_items": null,
            "align_self": null,
            "border": null,
            "bottom": null,
            "display": null,
            "flex": null,
            "flex_flow": null,
            "grid_area": null,
            "grid_auto_columns": null,
            "grid_auto_flow": null,
            "grid_auto_rows": null,
            "grid_column": null,
            "grid_gap": null,
            "grid_row": null,
            "grid_template_areas": null,
            "grid_template_columns": null,
            "grid_template_rows": null,
            "height": null,
            "justify_content": null,
            "justify_items": null,
            "left": null,
            "margin": null,
            "max_height": null,
            "max_width": null,
            "min_height": null,
            "min_width": null,
            "object_fit": null,
            "object_position": null,
            "order": null,
            "overflow": null,
            "overflow_x": null,
            "overflow_y": null,
            "padding": null,
            "right": null,
            "top": null,
            "visibility": null,
            "width": null
          }
        },
        "0a71f660f1f440f0abf9eb2b2af0a38a": {
          "model_module": "@jupyter-widgets/controls",
          "model_name": "ProgressStyleModel",
          "model_module_version": "1.5.0",
          "state": {
            "_model_module": "@jupyter-widgets/controls",
            "_model_module_version": "1.5.0",
            "_model_name": "ProgressStyleModel",
            "_view_count": null,
            "_view_module": "@jupyter-widgets/base",
            "_view_module_version": "1.2.0",
            "_view_name": "StyleView",
            "bar_color": null,
            "description_width": ""
          }
        },
        "4a23880c7e8c439d918c0ef38e541660": {
          "model_module": "@jupyter-widgets/base",
          "model_name": "LayoutModel",
          "model_module_version": "1.2.0",
          "state": {
            "_model_module": "@jupyter-widgets/base",
            "_model_module_version": "1.2.0",
            "_model_name": "LayoutModel",
            "_view_count": null,
            "_view_module": "@jupyter-widgets/base",
            "_view_module_version": "1.2.0",
            "_view_name": "LayoutView",
            "align_content": null,
            "align_items": null,
            "align_self": null,
            "border": null,
            "bottom": null,
            "display": null,
            "flex": null,
            "flex_flow": null,
            "grid_area": null,
            "grid_auto_columns": null,
            "grid_auto_flow": null,
            "grid_auto_rows": null,
            "grid_column": null,
            "grid_gap": null,
            "grid_row": null,
            "grid_template_areas": null,
            "grid_template_columns": null,
            "grid_template_rows": null,
            "height": null,
            "justify_content": null,
            "justify_items": null,
            "left": null,
            "margin": null,
            "max_height": null,
            "max_width": null,
            "min_height": null,
            "min_width": null,
            "object_fit": null,
            "object_position": null,
            "order": null,
            "overflow": null,
            "overflow_x": null,
            "overflow_y": null,
            "padding": null,
            "right": null,
            "top": null,
            "visibility": null,
            "width": null
          }
        },
        "b91e2cf9351e4ec79a9ee62529fb60d8": {
          "model_module": "@jupyter-widgets/controls",
          "model_name": "DescriptionStyleModel",
          "model_module_version": "1.5.0",
          "state": {
            "_model_module": "@jupyter-widgets/controls",
            "_model_module_version": "1.5.0",
            "_model_name": "DescriptionStyleModel",
            "_view_count": null,
            "_view_module": "@jupyter-widgets/base",
            "_view_module_version": "1.2.0",
            "_view_name": "StyleView",
            "description_width": ""
          }
        }
      }
    }
  },
  "cells": [
    {
      "cell_type": "markdown",
      "source": [
        "# Fine-tuning a Code Instruction Model for Legal Tasks  \n",
        "  \n",
        "In this notebook, we demonstrate how to fine-tune the `ibm-granite/granite-3b-code-instruct-2k` model, a small code instruction model, on a legal dataset using the qLoRA (Quantized Low-Rank Adaptation) technique. This experiment serves two primary purposes:  \n",
        "  \n",
        "1. Educational: It showcases the process of adapting a pre-trained model to a new domain.  \n",
        "2. Practical: It illustrates how a model's interpretation of domain-specific terms (like 'inheritance') can shift based on the training data.  \n",
        "  \n",
        "We'll walk through several key steps:  \n",
        "- Installing necessary dependencies  \n",
        "- Loading and exploring the dataset  \n",
        "- Setting up the quantized model  \n",
        "- Performing a sanity check  \n",
        "- Configuring and executing the training process  \n",
        "  \n",
        "By the end, we'll have a model that has learned to interpret legal concepts, demonstrating the power and flexibility of transfer learning in NLP.  "
      ],
      "metadata": {
        "id": "xIj6q15Z5gpO"
      }
    },
    {
      "cell_type": "code",
      "execution_count": 1,
      "metadata": {
        "id": "l8e_ji3fd81d",
        "colab": {
          "base_uri": "https://localhost:8080/"
        },
        "outputId": "544916c8-87fa-441a-8117-61bb73020e87"
      },
      "outputs": [
        {
          "output_type": "stream",
          "name": "stdout",
          "text": [
            "Requirement already satisfied: transformers in /usr/local/lib/python3.10/dist-packages (4.44.2)\n",
            "Requirement already satisfied: datasets in /usr/local/lib/python3.10/dist-packages (3.0.1)\n",
            "Requirement already satisfied: accelerate in /usr/local/lib/python3.10/dist-packages (0.34.2)\n",
            "Requirement already satisfied: bitsandbytes in /usr/local/lib/python3.10/dist-packages (0.44.1)\n",
            "Requirement already satisfied: peft in /usr/local/lib/python3.10/dist-packages (0.13.2)\n",
            "Requirement already satisfied: trl in /usr/local/lib/python3.10/dist-packages (0.11.4)\n",
            "Requirement already satisfied: filelock in /usr/local/lib/python3.10/dist-packages (from transformers) (3.16.1)\n",
            "Requirement already satisfied: huggingface-hub<1.0,>=0.23.2 in /usr/local/lib/python3.10/dist-packages (from transformers) (0.24.7)\n",
            "Requirement already satisfied: numpy>=1.17 in /usr/local/lib/python3.10/dist-packages (from transformers) (1.26.4)\n",
            "Requirement already satisfied: packaging>=20.0 in /usr/local/lib/python3.10/dist-packages (from transformers) (24.1)\n",
            "Requirement already satisfied: pyyaml>=5.1 in /usr/local/lib/python3.10/dist-packages (from transformers) (6.0.2)\n",
            "Requirement already satisfied: regex!=2019.12.17 in /usr/local/lib/python3.10/dist-packages (from transformers) (2024.9.11)\n",
            "Requirement already satisfied: requests in /usr/local/lib/python3.10/dist-packages (from transformers) (2.32.3)\n",
            "Requirement already satisfied: safetensors>=0.4.1 in /usr/local/lib/python3.10/dist-packages (from transformers) (0.4.5)\n",
            "Requirement already satisfied: tokenizers<0.20,>=0.19 in /usr/local/lib/python3.10/dist-packages (from transformers) (0.19.1)\n",
            "Requirement already satisfied: tqdm>=4.27 in /usr/local/lib/python3.10/dist-packages (from transformers) (4.66.5)\n",
            "Requirement already satisfied: pyarrow>=15.0.0 in /usr/local/lib/python3.10/dist-packages (from datasets) (16.1.0)\n",
            "Requirement already satisfied: dill<0.3.9,>=0.3.0 in /usr/local/lib/python3.10/dist-packages (from datasets) (0.3.8)\n",
            "Requirement already satisfied: pandas in /usr/local/lib/python3.10/dist-packages (from datasets) (2.2.2)\n",
            "Requirement already satisfied: xxhash in /usr/local/lib/python3.10/dist-packages (from datasets) (3.5.0)\n",
            "Requirement already satisfied: multiprocess in /usr/local/lib/python3.10/dist-packages (from datasets) (0.70.16)\n",
            "Requirement already satisfied: fsspec<=2024.6.1,>=2023.1.0 in /usr/local/lib/python3.10/dist-packages (from fsspec[http]<=2024.6.1,>=2023.1.0->datasets) (2024.6.1)\n",
            "Requirement already satisfied: aiohttp in /usr/local/lib/python3.10/dist-packages (from datasets) (3.10.10)\n",
            "Requirement already satisfied: psutil in /usr/local/lib/python3.10/dist-packages (from accelerate) (5.9.5)\n",
            "Requirement already satisfied: torch>=1.10.0 in /usr/local/lib/python3.10/dist-packages (from accelerate) (2.4.1+cu121)\n",
            "Requirement already satisfied: tyro>=0.5.11 in /usr/local/lib/python3.10/dist-packages (from trl) (0.8.12)\n",
            "Requirement already satisfied: aiohappyeyeballs>=2.3.0 in /usr/local/lib/python3.10/dist-packages (from aiohttp->datasets) (2.4.3)\n",
            "Requirement already satisfied: aiosignal>=1.1.2 in /usr/local/lib/python3.10/dist-packages (from aiohttp->datasets) (1.3.1)\n",
            "Requirement already satisfied: attrs>=17.3.0 in /usr/local/lib/python3.10/dist-packages (from aiohttp->datasets) (24.2.0)\n",
            "Requirement already satisfied: frozenlist>=1.1.1 in /usr/local/lib/python3.10/dist-packages (from aiohttp->datasets) (1.4.1)\n",
            "Requirement already satisfied: multidict<7.0,>=4.5 in /usr/local/lib/python3.10/dist-packages (from aiohttp->datasets) (6.1.0)\n",
            "Requirement already satisfied: yarl<2.0,>=1.12.0 in /usr/local/lib/python3.10/dist-packages (from aiohttp->datasets) (1.14.0)\n",
            "Requirement already satisfied: async-timeout<5.0,>=4.0 in /usr/local/lib/python3.10/dist-packages (from aiohttp->datasets) (4.0.3)\n",
            "Requirement already satisfied: typing-extensions>=3.7.4.3 in /usr/local/lib/python3.10/dist-packages (from huggingface-hub<1.0,>=0.23.2->transformers) (4.12.2)\n",
            "Requirement already satisfied: charset-normalizer<4,>=2 in /usr/local/lib/python3.10/dist-packages (from requests->transformers) (3.4.0)\n",
            "Requirement already satisfied: idna<4,>=2.5 in /usr/local/lib/python3.10/dist-packages (from requests->transformers) (3.10)\n",
            "Requirement already satisfied: urllib3<3,>=1.21.1 in /usr/local/lib/python3.10/dist-packages (from requests->transformers) (2.2.3)\n",
            "Requirement already satisfied: certifi>=2017.4.17 in /usr/local/lib/python3.10/dist-packages (from requests->transformers) (2024.8.30)\n",
            "Requirement already satisfied: sympy in /usr/local/lib/python3.10/dist-packages (from torch>=1.10.0->accelerate) (1.13.3)\n",
            "Requirement already satisfied: networkx in /usr/local/lib/python3.10/dist-packages (from torch>=1.10.0->accelerate) (3.4)\n",
            "Requirement already satisfied: jinja2 in /usr/local/lib/python3.10/dist-packages (from torch>=1.10.0->accelerate) (3.1.4)\n",
            "Requirement already satisfied: docstring-parser>=0.16 in /usr/local/lib/python3.10/dist-packages (from tyro>=0.5.11->trl) (0.16)\n",
            "Requirement already satisfied: rich>=11.1.0 in /usr/local/lib/python3.10/dist-packages (from tyro>=0.5.11->trl) (13.9.2)\n",
            "Requirement already satisfied: shtab>=1.5.6 in /usr/local/lib/python3.10/dist-packages (from tyro>=0.5.11->trl) (1.7.1)\n",
            "Requirement already satisfied: python-dateutil>=2.8.2 in /usr/local/lib/python3.10/dist-packages (from pandas->datasets) (2.8.2)\n",
            "Requirement already satisfied: pytz>=2020.1 in /usr/local/lib/python3.10/dist-packages (from pandas->datasets) (2024.2)\n",
            "Requirement already satisfied: tzdata>=2022.7 in /usr/local/lib/python3.10/dist-packages (from pandas->datasets) (2024.2)\n",
            "Requirement already satisfied: six>=1.5 in /usr/local/lib/python3.10/dist-packages (from python-dateutil>=2.8.2->pandas->datasets) (1.16.0)\n",
            "Requirement already satisfied: markdown-it-py>=2.2.0 in /usr/local/lib/python3.10/dist-packages (from rich>=11.1.0->tyro>=0.5.11->trl) (3.0.0)\n",
            "Requirement already satisfied: pygments<3.0.0,>=2.13.0 in /usr/local/lib/python3.10/dist-packages (from rich>=11.1.0->tyro>=0.5.11->trl) (2.18.0)\n",
            "Requirement already satisfied: propcache>=0.2.0 in /usr/local/lib/python3.10/dist-packages (from yarl<2.0,>=1.12.0->aiohttp->datasets) (0.2.0)\n",
            "Requirement already satisfied: MarkupSafe>=2.0 in /usr/local/lib/python3.10/dist-packages (from jinja2->torch>=1.10.0->accelerate) (3.0.1)\n",
            "Requirement already satisfied: mpmath<1.4,>=1.1.0 in /usr/local/lib/python3.10/dist-packages (from sympy->torch>=1.10.0->accelerate) (1.3.0)\n",
            "Requirement already satisfied: mdurl~=0.1 in /usr/local/lib/python3.10/dist-packages (from markdown-it-py>=2.2.0->rich>=11.1.0->tyro>=0.5.11->trl) (0.1.2)\n"
          ]
        }
      ],
      "source": [
        "!pip install transformers datasets accelerate bitsandbytes peft trl"
      ]
    },
    {
      "cell_type": "markdown",
      "source": [
        "## Dataset Preparation  \n",
        "  \n",
        "We're using the `legal-llama-instruction1` dataset, which contains various legal questions and corresponding answers. This dataset is particularly valuable for our purpose as it covers a wide range of legal concepts, providing a solid foundation to evaluate how our model's understanding of legal terms differs from technical definitions.  \n",
        "  \n",
        "The dataset is split into training and testing subsets, allowing us to both train the model and evaluate its performance on unseen data.  "
      ],
      "metadata": {
        "id": "eS-vhW2P6MdT"
      }
    },
    {
      "cell_type": "code",
      "source": [
        "import timeit\n",
        "\n",
        "start_time = timeit.default_timer()\n",
        "from datasets import load_dataset\n",
        "\n",
        "dataset = load_dataset('alespalla/chatbot_instruction_prompts')\n",
        "\n",
        "# split_dataset = dataset['train'].train_test_split(test_size=0.2)\n",
        "dataset_loadtime = timeit.default_timer() - start_time\n"
      ],
      "metadata": {
        "id": "np-FUjTfeLNh"
      },
      "execution_count": 1,
      "outputs": []
    },
    {
      "cell_type": "markdown",
      "source": [
        "## Model Loading and Quantization  \n",
        "  \n",
        "Next, we load the quantized model. Quantization is a technique that reduces the model size and increases inference speed by approximating the weights of the model. We use the `BitsAndBytes` library, which allows us to load the model in a more memory-efficient format without significantly compromising performance.  \n",
        "  \n",
        "This step is crucial as it enables us to work with a large language model within the memory constraints of our hardware, making the fine-tuning process more accessible and efficient.  "
      ],
      "metadata": {
        "id": "VoQp5knP6UpN"
      }
    },
    {
      "cell_type": "code",
      "source": [
        "start_time = timeit.default_timer()\n",
        "import torch\n",
        "from transformers import AutoTokenizer, AutoModelForCausalLM, TrainingArguments, BitsAndBytesConfig\n",
        "from peft import LoraConfig\n",
        "from trl import SFTTrainer\n",
        "\n",
        "model_checkpoint = \"ibm-granite/granite-3b-code-instruct-2k\"\n",
        "tokenizer = AutoTokenizer.from_pretrained(model_checkpoint)\n",
        "\n",
        "BitsAndBytesConfig\n",
        "\n",
        "bnb_config = BitsAndBytesConfig(\n",
        "    load_in_4bit=True,\n",
        "    bnb_4bit_quant_type=\"nf4\",\n",
        "    bnb_4bit_use_double_quant=True,\n",
        "    bnb_4bit_compute_dtype=torch.float16 # if not set will throw a warning about slow speeds when training\n",
        ")\n",
        "\n",
        "model = AutoModelForCausalLM.from_pretrained(\n",
        "  model_checkpoint,\n",
        "  quantization_config=bnb_config,\n",
        "  trust_remote_code=True\n",
        ")\n",
        "\n",
        "model_loadtime = timeit.default_timer() - start_time\n"
      ],
      "metadata": {
        "id": "DBCHhukYox8G",
        "colab": {
          "base_uri": "https://localhost:8080/",
          "height": 66,
          "referenced_widgets": [
            "29e19b80ed4c4545b5c85999e04fb1a2",
            "5fa1acf1da9648c0bd97aac2c224e1b3",
            "29152db165814f8e8407e1b090f51053",
            "8c8b476314c1411f8647727350645eb2",
            "a2de7fa9df82434aa83d8af4412f8e8d",
            "c2bf409363314e81b43ec64bd43906c8",
            "41569a7e07da40f8bc5a0b14773e3a03",
            "ef687d2c18674e82baf9e7c13503f39f",
            "c5920c6af1334a36a89de9104dd1ca8a",
            "5655016717b64cf5b150e95b4ca7f87f",
            "e3235646bec742cba3e44f576f2f1b59"
          ]
        },
        "outputId": "3532f0a0-4c4b-49d4-d862-251b079a3a3d"
      },
      "execution_count": 2,
      "outputs": [
        {
          "output_type": "stream",
          "name": "stderr",
          "text": [
            "`low_cpu_mem_usage` was None, now set to True since model is quantized.\n"
          ]
        },
        {
          "output_type": "display_data",
          "data": {
            "text/plain": [
              "Loading checkpoint shards:   0%|          | 0/2 [00:00<?, ?it/s]"
            ],
            "application/vnd.jupyter.widget-view+json": {
              "version_major": 2,
              "version_minor": 0,
              "model_id": "29e19b80ed4c4545b5c85999e04fb1a2"
            }
          },
          "metadata": {}
        }
      ]
    },
    {
      "cell_type": "code",
      "source": [
        "from transformers import pipeline\n",
        "import datasets\n",
        "\n",
        "def pirateify(batch):\n",
        "    prompts = [f\"make it sound like a pirate said this, do not include any preamble or explanation only piratify the following: {response}\" for response in batch['response']]\n",
        "    inputs = tokenizer(prompts, return_tensors=\"pt\", padding=True, truncation=True).to('cuda')\n",
        "    outputs = model.generate(**inputs, max_new_tokens=256, do_sample=True, top_p=0.95, temperature=0.7)\n",
        "    pirate_responses = [tokenizer.decode(output, skip_special_tokens=True) for output in outputs]\n",
        "    return {\n",
        "        'prompt': batch['prompt'],\n",
        "        'response': pirate_responses\n",
        "    }\n",
        "\n",
        "def filter_long_examples(example):\n",
        "    prompt_tokens = tokenizer.tokenize(example['prompt'])\n",
        "    response_tokens = tokenizer.tokenize(example['response'])  # Tokenize the response\n",
        "    # Logging to debug the token counts\n",
        "    # if len(prompt_tokens) > 50 or len(response_tokens) > 200:\n",
        "    #     print(f\"Excluding example. Prompt length: {len(prompt_tokens)}, Response length: {len(response_tokens)}\")\n",
        "    return len(response_tokens) <= 200 and len(prompt_tokens) <= 50\n",
        "\n",
        "# Apply the filter to both train and test splits\n",
        "train_filtered = dataset['train'].select(range(6000)).filter(filter_long_examples)\n",
        "test_filtered = dataset['test'].select(range(500)).filter(filter_long_examples)\n",
        "\n",
        "print(f\"train_filtered: {len(train_filtered)} observations\\ntest_filtered: {len(test_filtered)} observations\")\n",
        "pirate_train = train_filtered.select(range(1500)).map(pirateify, batched=True, batch_size=64)\n",
        "pirate_test = test_filtered.select(range(250)).map(pirateify, batched=True, batch_size=64)\n",
        "\n",
        "# Save the new dataset\n",
        "pirate_dataset = datasets.DatasetDict({\n",
        "    'train': pirate_train,\n",
        "    'test': pirate_test\n",
        "})\n"
      ],
      "metadata": {
        "colab": {
          "base_uri": "https://localhost:8080/",
          "height": 116,
          "referenced_widgets": [
            "ea8f3359c6cd4266af2fbce2d2d998ea",
            "65895f30671f4977b89522bc9fdf8705",
            "9e7c28abf41841e4becf4cd058403138",
            "160b939dc0ea4da7bd54d60fef17a4b9",
            "ca5efe72982b44df9a23a36dbe800a99",
            "2c098b3d64104363a9a08771b05138c3",
            "860ecf17dd7042aebc4468d903d9ba74",
            "a617f7a772304c368726accb90ed0e25",
            "59eb5504afac4b2fba4af32b6cc9d9ea",
            "069d77a88a74430f894a68ef3b25a121",
            "0f5ffa949a6c4ebf996e51bb7f7b3f27",
            "c1a24ae3940242fba46dcc6abacf35ef",
            "0992cc93e96745028e927b6ec3e8e3f8",
            "99a4c6dc324942738b08e530a71488a9",
            "06c6405f216b4cbbbc4a4efd175969ea",
            "a9114b8aa7474308b99321db203b09d1",
            "20345dfda0994173aca62e735a45b5ed",
            "fda70756b99b49bc99e39f16675971cb",
            "c1aee8ae082841a18ec0a83b01b85731",
            "0a71f660f1f440f0abf9eb2b2af0a38a",
            "4a23880c7e8c439d918c0ef38e541660",
            "b91e2cf9351e4ec79a9ee62529fb60d8"
          ]
        },
        "id": "Twa1ZYa0BxWg",
        "outputId": "9053ab17-837f-462a-9def-07a19f6e8498"
      },
      "execution_count": null,
      "outputs": [
        {
          "output_type": "display_data",
          "data": {
            "text/plain": [
              "Filter:   0%|          | 0/6000 [00:00<?, ? examples/s]"
            ],
            "application/vnd.jupyter.widget-view+json": {
              "version_major": 2,
              "version_minor": 0,
              "model_id": "ea8f3359c6cd4266af2fbce2d2d998ea"
            }
          },
          "metadata": {}
        },
        {
          "output_type": "stream",
          "name": "stdout",
          "text": [
            "train_filtered: 5498 observations\n",
            "test_filtered: 456 observations\n"
          ]
        },
        {
          "output_type": "display_data",
          "data": {
            "text/plain": [
              "Map:   0%|          | 0/1500 [00:00<?, ? examples/s]"
            ],
            "application/vnd.jupyter.widget-view+json": {
              "version_major": 2,
              "version_minor": 0,
              "model_id": "c1a24ae3940242fba46dcc6abacf35ef"
            }
          },
          "metadata": {}
        }
      ]
    },
    {
      "cell_type": "markdown",
      "source": [
        "## Model Sanity Check  \n",
        "  \n",
        "Before proceeding with fine-tuning, we perform a sanity check on the loaded model. We feed it an example prompt about 'inheritance' to ensure it produces intelligible and contextually appropriate responses.  \n",
        "  \n",
        "At this stage, the model should interpret 'inheritance' in a programming context, explaining how classes inherit properties and methods from one another. This output serves as a baseline, allowing us to compare how the model's understanding shifts after fine-tuning on legal data.  \n",
        "\n",
        "Note that the output is truncated because of us setting `max_new_tokens=100`"
      ],
      "metadata": {
        "id": "zfX4ltjB6mgL"
      }
    },
    {
      "cell_type": "code",
      "source": [
        "start_time = timeit.default_timer()\n",
        "input_text = \"<|user>What does 'inheritance' mean?\\n<|assistant|>\\n\"\n",
        "# In coding, \"inheritance\" typically refers to a mechanism in object-oriented programming where a new class can inherit the properties and behavior of an existing class.\n",
        "# In a legal context, \"inheritance\" refers to the process by which a person receives property, titles, or debts from a deceased person.\n",
        "\n",
        "\n",
        "inputs = tokenizer(input_text, return_tensors=\"pt\")\n",
        "\n",
        "outputs = model.generate(**inputs, max_new_tokens=100)\n",
        "print(tokenizer.decode(outputs[0], skip_special_tokens=True))\n",
        "\n",
        "model_check_loadtime = timeit.default_timer() - start_time\n"
      ],
      "metadata": {
        "id": "LQzeV3ytV42p"
      },
      "execution_count": null,
      "outputs": []
    },
    {
      "cell_type": "markdown",
      "source": [
        "### Sample Output\n",
        "\n",
        "```\n",
        "Inheritance is a mechanism by which one class acquires the properties and behaviors of another class. In object-oriented programming, inheritance allows a new class to inherit the properties and methods of an existing class, known as the parent or base class. This can be useful for code reuse and creating a hierarchy of classes.\n",
        "\n",
        "For example, let's say we have a base class called \"Vehicle\" that has properties like \"make\" and \"model\". We can create a subclass called \"Car\" that\n",
        "```"
      ],
      "metadata": {
        "id": "-7P4iUMPy2hF"
      }
    },
    {
      "cell_type": "markdown",
      "source": [
        "## Training Setup  \n",
        "  \n",
        "In this section, we set up the training environment. Key steps include:  \n",
        "  \n",
        "1. Defining the format for training prompts to align with the model's expected inputs.  \n",
        "2. Configuring the qLoRA technique, which allows us to fine-tune the model efficiently by only training a small number of additional parameters.  \n",
        "3. Setting up the `SFTTrainer` (Supervised Fine-Tuning Trainer) with appropriate hyperparameters.  \n",
        "  \n",
        "This setup allows us to enhance specific aspects of the model's performance without retraining the entire model from scratch, saving computational resources and time.  "
      ],
      "metadata": {
        "id": "l0CXDP4h7CfZ"
      }
    },
    {
      "cell_type": "code",
      "source": [
        "start_time = timeit.default_timer()\n",
        "def formatting_prompts_func(example):\n",
        "    output_texts = []\n",
        "    for i in range(len(example['question'])):\n",
        "        text = f\"<|system|>\\nYou are a helpful assistant\\n<|user|>\\n{example['question'][i]}\\n<|assistant|>\\n{example['answer'][i]}<|endoftext|>\"\n",
        "        output_texts.append(text)\n",
        "    return output_texts\n",
        "\n",
        "response_template = \"\\n<|assistant|>\\n\"\n",
        "\n",
        "from trl import DataCollatorForCompletionOnlyLM\n",
        "\n",
        "response_template_ids = tokenizer.encode(response_template, add_special_tokens=False)[2:]\n",
        "collator = DataCollatorForCompletionOnlyLM(response_template_ids, tokenizer=tokenizer)\n",
        "\n",
        "\n",
        "# Apply qLoRA\n",
        "qlora_config = LoraConfig(\n",
        "    r=16,  # The rank of the Low-Rank Adaptation\n",
        "    lora_alpha=32,  # Scaling factor for the adapted layers\n",
        "    target_modules=[\"q_proj\", \"v_proj\"],  # Layer names to apply LoRA to\n",
        "    lora_dropout=0.1,\n",
        "    bias=\"none\"\n",
        ")\n",
        "\n",
        "# Initialize the SFTTrainer\n",
        "training_args = TrainingArguments(\n",
        "    output_dir=\"./results\",\n",
        "    learning_rate=2e-4,\n",
        "    per_device_train_batch_size=6,\n",
        "    per_device_eval_batch_size=6,\n",
        "    num_train_epochs=3,\n",
        "    logging_steps=100,\n",
        "    fp16=True\n",
        ")\n",
        "\n",
        "max_seq_length = 250\n",
        "\n",
        "trainer = SFTTrainer(\n",
        "    model=model,\n",
        "    args=training_args,\n",
        "    train_dataset=split_dataset['train'],\n",
        "    eval_dataset=split_dataset['test'],\n",
        "    tokenizer=tokenizer,\n",
        "    peft_config = qlora_config,\n",
        "    formatting_func=formatting_prompts_func,\n",
        "    data_collator=collator,\n",
        "    max_seq_length=max_seq_length,\n",
        ")\n",
        "\n",
        "training_setup_loadtime = timeit.default_timer() - start_time\n"
      ],
      "metadata": {
        "id": "Ng0W0ULxsE_i"
      },
      "execution_count": null,
      "outputs": []
    },
    {
      "cell_type": "markdown",
      "source": [
        "## Training Process  \n",
        "  \n",
        "With all the preparations complete, we now start the training process. The model will be exposed to numerous examples from our legal dataset, gradually adjusting its understanding of legal concepts.  \n",
        "  \n",
        "We'll monitor the training loss over time, which should decrease as the model improves its performance on the task. After training, we'll save the fine-tuned model for future use.  "
      ],
      "metadata": {
        "id": "uKIe2z_THh35"
      }
    },
    {
      "cell_type": "code",
      "source": [
        "start_time = timeit.default_timer()\n",
        "# Start training\n",
        "trainer.train()\n",
        "training_time = timeit.default_timer() - start_time\n"
      ],
      "metadata": {
        "id": "oZ2rUKO2sdae"
      },
      "execution_count": null,
      "outputs": []
    },
    {
      "cell_type": "markdown",
      "source": [
        "## Saving the Fine-tuned Model  \n",
        "  \n",
        "After the training process is complete, it's crucial to save our fine-tuned model. This step ensures that we can reuse the model later without having to retrain it. We'll save both the model weights and the tokenizer, as they work in tandem to process and generate text.  \n",
        "  \n",
        "Saving the model allows us to distribute it, use it in different environments, or continue fine-tuning it in the future. It's a critical step in the machine learning workflow, preserving the knowledge our model has acquired through the training process.  "
      ],
      "metadata": {
        "id": "zUjBCOZVIaas"
      }
    },
    {
      "cell_type": "code",
      "source": [
        "model.save_pretrained(\"./results\")\n",
        "tokenizer.save_pretrained(\"./results\")"
      ],
      "metadata": {
        "id": "rK1i3CFeebzu"
      },
      "execution_count": null,
      "outputs": []
    },
    {
      "cell_type": "markdown",
      "source": [
        "### Persisting the Model to Huggingface Hub  \n",
        "  \n",
        "After fine-tuning and validating our model, a optional step is to make it easily accessible for future use or sharing with the community. The Hugging Face Hub provides an excellent platform for this purpose.  \n",
        "  \n",
        "Uploading our model to the Hugging Face Hub offers several benefits:  \n",
        "1. Easy sharing and collaboration with other researchers or developers  \n",
        "2. Version control for your model iterations  \n",
        "3. Integration with various libraries and tools in the Hugging Face ecosystem  \n",
        "4. Simplified deployment options  \n",
        "  \n",
        "We'll demonstrate how to push our fine-tuned model and tokenizer to the Hugging Face Hub, making it available for others to use or for easy integration into other projects. This step is essential for reproducibility and for contributing to the broader NLP community.  \n",
        "\n",
        "**NOTE:** Check with your own legal counsel before pushing models to Huggingface Hub."
      ],
      "metadata": {
        "id": "se2YObHlj4f3"
      }
    },
    {
      "cell_type": "code",
      "source": [
        "from google.colab import userdata\n",
        "\n",
        "model.push_to_hub(\"rawkintrevo/granite-3b-code-instruct-2k-legal\",\n",
        "                  token= userdata.get('HF_TOKEN'))"
      ],
      "metadata": {
        "id": "JkL-yHtth3Kc"
      },
      "execution_count": null,
      "outputs": []
    },
    {
      "cell_type": "markdown",
      "source": [
        "## Loading the Fine-tuned Model  \n",
        "  \n",
        "Once we've saved our model, we can demonstrate how to load it back for inference. This step is crucial for real-world applications where you want to use your trained model without going through the training process again.  \n",
        "  \n",
        "Loading a saved model is typically much faster than training from scratch, making it efficient for deployment scenarios. We'll show how to load both the model and the tokenizer, ensuring that we have all the components necessary for text generation.  \n"
      ],
      "metadata": {
        "id": "IZFOrAj-IeRv"
      }
    },
    {
      "cell_type": "code",
      "source": [
        "# you would uncomment the next 3 lines to load in a new notebook\n",
        "# from transformers import AutoTokenizer, AutoModelForCausalLM\n",
        "\n",
        "# model = AutoModelForCausalLM.from_pretrained(\"./results\")\n",
        "# tokenizer = AutoTokenizer.from_pretrained(\"./results\")"
      ],
      "metadata": {
        "id": "0roSm1wbee7w"
      },
      "execution_count": null,
      "outputs": []
    },
    {
      "cell_type": "markdown",
      "source": [
        "### Loading the Model from Huggingface Hub  \n",
        "  \n",
        "Once a model is pushed to the Hugging Face Hub, loading it for inference or further fine-tuning becomes remarkably straightforward. This ease of use is one of the key advantages of the Hugging Face ecosystem.  \n",
        "  \n",
        "We'll show how to load our fine-tuned model directly from the Hugging Face Hub using just a few lines of code. This process works not only for our own uploaded models but for any public model on the Hub, demonstrating the power and flexibility of this approach.  \n",
        "  \n",
        "Loading from the Hub allows you to:  \n",
        "1. Quickly experiment with different models  \n",
        "2. Easily integrate state-of-the-art models into your projects  \n",
        "3. Ensure you're using the latest version of a model  \n",
        "4. Access models from various devices or environments without needing to manually transfer files  \n",
        "  \n",
        "This capability is particularly useful in production environments, where you might need to dynamically load or update models based on specific requirements or performance metrics.  "
      ],
      "metadata": {
        "id": "3VarEb6jkFms"
      }
    },
    {
      "cell_type": "code",
      "source": [
        "# model = AutoModelForCausalLM.from_pretrained(\"rawkintrevo/granite-3b-code-instruct-2k-legal\")"
      ],
      "metadata": {
        "id": "wZ1oQO3UkKFm"
      },
      "execution_count": null,
      "outputs": []
    },
    {
      "cell_type": "markdown",
      "source": [
        "## Evaluation  \n",
        "  \n",
        "Finally, we'll evaluate our fine-tuned model by presenting it with the same 'inheritance' prompt we used in the sanity check. This comparison will reveal how the model's understanding has shifted from a programming context to a legal one.  \n",
        "  \n",
        "This step demonstrates the power of transfer learning and domain-specific fine-tuning in natural language processing, showing how we can adapt a general-purpose language model to specialized tasks.  "
      ],
      "metadata": {
        "id": "VjhDEDYMHl_S"
      }
    },
    {
      "cell_type": "code",
      "source": [
        "input_text = \"<|user>What does 'inheritance' mean?\\n<|assistant|>\\n\"\n",
        "inputs = tokenizer(input_text, return_tensors=\"pt\")\n",
        "\n",
        "outputs = model.generate(**inputs, max_new_tokens=100)\n",
        "print(tokenizer.decode(outputs[0], skip_special_tokens=True))"
      ],
      "metadata": {
        "id": "Byruf-ErUx2X"
      },
      "execution_count": null,
      "outputs": []
    },
    {
      "cell_type": "markdown",
      "source": [
        "### Sample Output\n",
        "\n",
        "```\n",
        "Inheritance refers to the right of a deceased person to inherit property. It is a legal concept that allows the deceased person's estate to be divided among their surviving family members. In the context of real estate, inheritance refers to the right of a deceased person to inherit their property. It is a legal concept that allows the deceased person's estate to be divided among their surviving family members. In the context of real estate, inheritance refers to\n",
        "\n",
        "```"
      ],
      "metadata": {
        "id": "aXPG2FQzy9z0"
      }
    },
    {
      "cell_type": "markdown",
      "source": [
        "## Execution Times and Performance Metrics  \n",
        "  \n",
        "Throughout this notebook, we've been tracking the time taken for various stages of our process. These execution times provide valuable insights into the computational requirements of fine-tuning a large language model.  \n",
        "  \n",
        "We'll summarize the time taken for:  \n",
        "1. Loading the initial model  \n",
        "2. Performing the sanity check  \n",
        "3. Setting up the training environment  \n",
        "4. The actual training process  \n",
        "  \n",
        "Understanding these metrics is can be helpful for resource planning in machine learning projects. It helps in estimating the time and computational power needed for similar tasks in the future, and can guide decisions about hardware requirements or potential optimizations.  \n",
        "\n",
        "This topic is deep and nuanced, but this can give you an idea of how long your finetuning took on this particular hardware.\n",
        "  \n",
        "Additionally, we'll look at the training loss over time, which gives us a quantitative measure of how well our model learned from the legal dataset. This metric helps us gauge the effectiveness of our fine-tuning process.  "
      ],
      "metadata": {
        "id": "cxZHIvdbIoNL"
      }
    },
    {
      "cell_type": "code",
      "source": [
        "print(f\"Model Load Time: {model_loadtime} seconds\")\n",
        "print(f\"Model Sanity Check Time: {model_check_loadtime} seconds\")\n",
        "print(f\"Training Setup Time: {training_setup_loadtime} seconds\")\n",
        "print(f\"Training Time: {training_time} seconds ({training_time/60} minutes)\")"
      ],
      "metadata": {
        "id": "wkbvblKVzLiS"
      },
      "execution_count": null,
      "outputs": []
    },
    {
      "cell_type": "markdown",
      "source": [
        "### Sample Output\n",
        "\n",
        "```\n",
        "Model Load Time: 64.40367837800022 seconds\n",
        "Model Sanity Check Time: 9.231385502000194 seconds\n",
        "Training Setup Time: 4.85179586599952 seconds\n",
        "Training Time: 4826.068798849 seconds (80.43447998081666 minutes)\n",
        "```"
      ],
      "metadata": {
        "id": "gnppnMMK27SR"
      }
    }
  ]
}